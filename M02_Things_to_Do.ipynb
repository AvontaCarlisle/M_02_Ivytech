{
 "cells": [
  {
   "cell_type": "code",
   "execution_count": null,
   "id": "43cbe3d4-b391-4a73-8db4-70308f1fc53b",
   "metadata": {},
   "outputs": [],
   "source": [
    "# 4.1"
   ]
  },
  {
   "cell_type": "code",
   "execution_count": 17,
   "id": "085c7196-08fb-44d1-aba7-76320e086452",
   "metadata": {},
   "outputs": [
    {
     "name": "stdout",
     "output_type": "stream",
     "text": [
      "too low\n"
     ]
    }
   ],
   "source": [
    "secret = 5\n",
    "guess = 2\n",
    "if guess > secret:\n",
    "    print(\"too high\")\n",
    "elif guess < secret:\n",
    "    print(\"too low\")\n",
    "else:\n",
    "    print(\"just right\")"
   ]
  },
  {
   "cell_type": "code",
   "execution_count": null,
   "id": "7519e4d8-8243-459f-9239-91b58c297dc7",
   "metadata": {},
   "outputs": [],
   "source": [
    "#4.2"
   ]
  },
  {
   "cell_type": "code",
   "execution_count": 21,
   "id": "b04fe357-5d77-46b6-b592-5f645df80057",
   "metadata": {},
   "outputs": [
    {
     "name": "stdout",
     "output_type": "stream",
     "text": [
      "small like a cherry pea\n"
     ]
    }
   ],
   "source": [
    "small = True\n",
    "green = False\n",
    "\n",
    "if small:\n",
    "    print(\"small like a cherry pea\")\n",
    "elif green:\n",
    "    print(\"green like a watermelon\")\n",
    "else:\n",
    "    print(\"like a pumpkin?\")\n"
   ]
  },
  {
   "cell_type": "code",
   "execution_count": null,
   "id": "7e572e37-bfc2-4c6c-8120-c46d0ecee8aa",
   "metadata": {},
   "outputs": [],
   "source": [
    "#6.1"
   ]
  },
  {
   "cell_type": "code",
   "execution_count": 25,
   "id": "a9f65cb4-1925-4d9f-982b-fcc1d8e4df45",
   "metadata": {},
   "outputs": [
    {
     "name": "stdout",
     "output_type": "stream",
     "text": [
      "3\n",
      "2\n",
      "1\n",
      "0\n"
     ]
    }
   ],
   "source": [
    "numbers = [3,2,1,0]\n",
    "for numbers in numbers:\n",
    "    print(numbers)"
   ]
  },
  {
   "cell_type": "code",
   "execution_count": null,
   "id": "24980555-aea8-4810-b680-804f12f19a69",
   "metadata": {},
   "outputs": [],
   "source": [
    "#6.2"
   ]
  },
  {
   "cell_type": "code",
   "execution_count": 33,
   "id": "5bf64bd4-060a-413b-84c0-e9d18fb112b9",
   "metadata": {},
   "outputs": [
    {
     "name": "stdout",
     "output_type": "stream",
     "text": [
      "too low\n",
      "too low\n",
      "too low\n",
      "too low\n",
      "too low\n",
      "too low\n",
      "found it!\n"
     ]
    }
   ],
   "source": [
    "guess_me = 7\n",
    "number = 1\n",
    "\n",
    "while True:\n",
    "    if number < guess_me:\n",
    "        print(\"too low\")\n",
    "        \n",
    "    elif number == guess_me:\n",
    "        print(\"found it!\")\n",
    "        break\n",
    "    elif number > guess_me:\n",
    "        print(\"oops\")\n",
    "    number +=1\n"
   ]
  },
  {
   "cell_type": "code",
   "execution_count": null,
   "id": "cb573259-750b-4d29-b711-b16fbfce15a4",
   "metadata": {},
   "outputs": [],
   "source": [
    "#6.3"
   ]
  },
  {
   "cell_type": "code",
   "execution_count": null,
   "id": "a8216aef-e48c-4577-8646-269addf9caa4",
   "metadata": {},
   "outputs": [],
   "source": [
    "guess_me = 5\n",
    "for number in range(10):\n",
    "    if number < guess_me:\n",
    "        print(\"too low\")\n",
    "    elif "
   ]
  }
 ],
 "metadata": {
  "kernelspec": {
   "display_name": "Python 3 (ipykernel)",
   "language": "python",
   "name": "python3"
  },
  "language_info": {
   "codemirror_mode": {
    "name": "ipython",
    "version": 3
   },
   "file_extension": ".py",
   "mimetype": "text/x-python",
   "name": "python",
   "nbconvert_exporter": "python",
   "pygments_lexer": "ipython3",
   "version": "3.12.4"
  }
 },
 "nbformat": 4,
 "nbformat_minor": 5
}
